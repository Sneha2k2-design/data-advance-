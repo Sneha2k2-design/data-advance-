{
  "nbformat": 4,
  "nbformat_minor": 0,
  "metadata": {
    "colab": {
      "provenance": []
    },
    "kernelspec": {
      "name": "python3",
      "display_name": "Python 3"
    },
    "language_info": {
      "name": "python"
    }
  },
  "cells": [
    {
      "cell_type": "code",
      "execution_count": null,
      "metadata": {
        "id": "vNeUuEt8scpe"
      },
      "outputs": [],
      "source": []
    },
    {
      "cell_type": "markdown",
      "source": [
        "\"\u0012 Write ' %ode to re\u0013er\n",
        "e '\n",
        "tring\u0012\n"
      ],
      "metadata": {
        "id": "8Z6n4GQssvIS"
      }
    },
    {
      "cell_type": "code",
      "source": [
        "x=\"sinchana\"\n",
        "x[::-1]\n"
      ],
      "metadata": {
        "colab": {
          "base_uri": "https://localhost:8080/",
          "height": 36
        },
        "id": "Zt1AeY9-swHQ",
        "outputId": "2ef9f9aa-fc47-4a29-c53a-947d5849a19b"
      },
      "execution_count": null,
      "outputs": [
        {
          "output_type": "execute_result",
          "data": {
            "text/plain": [
              "'anahcnis'"
            ],
            "application/vnd.google.colaboratory.intrinsic+json": {
              "type": "string"
            }
          },
          "metadata": {},
          "execution_count": 1
        }
      ]
    },
    {
      "cell_type": "code",
      "source": [],
      "metadata": {
        "id": "esEJ9tics9Vh"
      },
      "execution_count": null,
      "outputs": []
    },
    {
      "cell_type": "markdown",
      "source": [
        "\n",
        "\u0012 Write ' %ode to %ount the nu\n",
        "ber of \u0013owel\n",
        " in '\n",
        "tring\u0012"
      ],
      "metadata": {
        "id": "LrD8Kys5tBCk"
      }
    },
    {
      "cell_type": "code",
      "source": [
        "input_string = \"Hello World\"\n",
        "vowels = 'aeiouAEIOU'\n",
        "\n",
        "\n",
        "count = 0\n",
        "\n",
        "# Iterate through each character in the string\n",
        "for char in input_string:\n",
        "    if char in vowels:\n",
        "        count += 1\n",
        "\n",
        "# Printing the result\n",
        "print(f\"The number of vowels in the string is: {count}\")"
      ],
      "metadata": {
        "colab": {
          "base_uri": "https://localhost:8080/"
        },
        "id": "arOh2cd9tBtr",
        "outputId": "3927d1ee-d161-4a89-9198-8e5b5fad5bf1"
      },
      "execution_count": null,
      "outputs": [
        {
          "output_type": "stream",
          "name": "stdout",
          "text": [
            "The number of vowels in the string is: 3\n"
          ]
        }
      ]
    },
    {
      "cell_type": "code",
      "source": [],
      "metadata": {
        "id": "1bUM_GONtSlg"
      },
      "execution_count": null,
      "outputs": []
    },
    {
      "cell_type": "markdown",
      "source": [
        "\n",
        "\u0012 Write ' %ode to %he%k if ' gi\u0013en\n",
        "tring i\n",
        " ' p'lindro\n",
        "e or not\u0012"
      ],
      "metadata": {
        "id": "fsAaJr9ZtU9o"
      }
    },
    {
      "cell_type": "code",
      "source": [
        "input_string = \"madam\"\n",
        "\n",
        "# Removing spaces and converting to lowercase for uniformity\n",
        "processed_string = input_string.replace(\" \", \"\").lower()\n",
        "\n",
        "# Checking if the string is equal to its reverse\n",
        "is_palindrome = processed_string == processed_string[::-1]\n",
        "\n",
        "# Printing the result\n",
        "if is_palindrome:\n",
        "    print(\"The string is a palindrome.\")\n",
        "else:\n",
        "    print(\"The string is not a palindrome.\")"
      ],
      "metadata": {
        "colab": {
          "base_uri": "https://localhost:8080/"
        },
        "id": "Ki16B1DotZkE",
        "outputId": "82f1582f-4fa0-493d-fb34-9d5e143e80d7"
      },
      "execution_count": null,
      "outputs": [
        {
          "output_type": "stream",
          "name": "stdout",
          "text": [
            "The string is a palindrome.\n"
          ]
        }
      ]
    },
    {
      "cell_type": "code",
      "source": [],
      "metadata": {
        "id": "S_zRNfb6tfbR"
      },
      "execution_count": null,
      "outputs": []
    },
    {
      "cell_type": "markdown",
      "source": [
        "\u0011\u0012 Write ' %ode to %he%k if two gi\u0013en\n",
        "tring\n",
        " 're 'n'gr'\n",
        "\n",
        " of e'%h other\u0012"
      ],
      "metadata": {
        "id": "-8w4YzSntjBk"
      }
    },
    {
      "cell_type": "code",
      "source": [
        "str1 = \"listen\"\n",
        "str2 = \"silent\"\n",
        "\n",
        "# Converting both strings to lowercase for uniformity\n",
        "str1 = str1.lower()\n",
        "str2 = str2.lower()\n",
        "\n",
        "# Checking if sorted characters of both strings are equal\n",
        "are_anagrams = sorted(str1) == sorted(str2)\n",
        "\n",
        "# Printing the result\n",
        "if are_anagrams:\n",
        "    print(\"The two strings are anagrams of each other.\")\n",
        "else:\n",
        "    print(\"The two strings are not anagrams of each other.\")"
      ],
      "metadata": {
        "colab": {
          "base_uri": "https://localhost:8080/"
        },
        "id": "AWI-waBntjms",
        "outputId": "a8bcab17-03d0-4de4-dbd7-67e66ffd0d55"
      },
      "execution_count": null,
      "outputs": [
        {
          "output_type": "stream",
          "name": "stdout",
          "text": [
            "The two strings are anagrams of each other.\n"
          ]
        }
      ]
    },
    {
      "cell_type": "code",
      "source": [],
      "metadata": {
        "id": "5qSmGl7uts8r"
      },
      "execution_count": null,
      "outputs": []
    },
    {
      "cell_type": "markdown",
      "source": [
        "\t\u0012 Write ' %ode to find 'll o%%urren%e\n",
        " of ' gi\u0013en\n",
        "ub\n",
        "tring within 'nother\n",
        "tring\u0012"
      ],
      "metadata": {
        "id": "IbXpjJhetx7N"
      }
    },
    {
      "cell_type": "code",
      "source": [
        "main_string = \"This is a test string. This test is for finding test occurrences.\"\n",
        "substring = \"test\"\n",
        "\n",
        "# List to store the starting indices of the occurrences\n",
        "indices = []\n",
        "\n",
        "# Length of the substring\n",
        "sub_len = len(substring)\n",
        "\n",
        "# Iterate through the main string\n",
        "for i in range(len(main_string) - sub_len + 1):\n",
        "    # Check if the substring matches the current slice of the main string\n",
        "    if main_string[i:i + sub_len] == substring:\n",
        "        indices.append(i)\n",
        "\n",
        "# Printing the result\n",
        "print(f\"The substring '{substring}' is found at indices: {indices}\")"
      ],
      "metadata": {
        "colab": {
          "base_uri": "https://localhost:8080/"
        },
        "id": "9sWZnjt8tzgm",
        "outputId": "b11c34f3-f425-4cf9-e8f6-96d14f7dd662"
      },
      "execution_count": null,
      "outputs": [
        {
          "output_type": "stream",
          "name": "stdout",
          "text": [
            "The substring 'test' is found at indices: [10, 28, 48]\n"
          ]
        }
      ]
    },
    {
      "cell_type": "code",
      "source": [],
      "metadata": {
        "id": "p_XcwMYXt56i"
      },
      "execution_count": null,
      "outputs": []
    },
    {
      "cell_type": "markdown",
      "source": [
        "$\u0012 Write ' %ode to perfor\n",
        " b'\n",
        "i%\n",
        "tring %o\n",
        "pre\n",
        "\n",
        "ion u\n",
        "ing the %ount\n",
        " of repe'ted %h'r'%ter\n",
        "\u0012\n"
      ],
      "metadata": {
        "id": "6nBnh2eruHYm"
      }
    },
    {
      "cell_type": "code",
      "source": [
        "# Given string\n",
        "input_string = \"aabcccccaaa\"\n",
        "\n",
        "# Initialize variables\n",
        "compressed_string = \"\"\n",
        "count = 1\n",
        "\n",
        "# Iterate through the string\n",
        "for i in range(1, len(input_string)):\n",
        "    if input_string[i] == input_string[i - 1]:\n",
        "        count += 1\n",
        "    else:\n",
        "        compressed_string += input_string[i - 1] + str(count)\n",
        "        count = 1\n",
        "\n",
        "# Add the last set of characters\n",
        "compressed_string += input_string[-1] + str(count)\n",
        "\n",
        "# Printing the result\n",
        "print(f\"Compressed string: {compressed_string}\")\n"
      ],
      "metadata": {
        "colab": {
          "base_uri": "https://localhost:8080/"
        },
        "id": "U7lkp3p_uH-U",
        "outputId": "8b30c84b-52c3-4964-b743-76a70df1d68d"
      },
      "execution_count": null,
      "outputs": [
        {
          "output_type": "stream",
          "name": "stdout",
          "text": [
            "Compressed string: a2b1c5a3\n"
          ]
        }
      ]
    },
    {
      "cell_type": "code",
      "source": [],
      "metadata": {
        "id": "eIW3NDbSud81"
      },
      "execution_count": null,
      "outputs": []
    },
    {
      "cell_type": "markdown",
      "source": [
        "&\u0012 Write ' %ode to deter\n",
        "ine if '\n",
        "tring h'\n",
        " 'll unique %h'r'%ter\n",
        "\u0012"
      ],
      "metadata": {
        "id": "zaYXWAACuhJ6"
      }
    },
    {
      "cell_type": "code",
      "source": [
        "s = \"abcdefg\"\n",
        "\n",
        "# Using a set to track characters we've seen\n",
        "seen = set()\n",
        "unique = True\n",
        "\n",
        "for char in s:\n",
        "    if char in seen:\n",
        "        unique = False\n",
        "        break\n",
        "    seen.add(char)\n",
        "\n",
        "if unique:\n",
        "    print(\"All characters are unique.\")\n",
        "else:\n",
        "    print(\"There are duplicate characters.\")"
      ],
      "metadata": {
        "colab": {
          "base_uri": "https://localhost:8080/"
        },
        "id": "_7apXWjmuhtd",
        "outputId": "23119cbd-46fd-4538-c5b1-10aa3373a343"
      },
      "execution_count": null,
      "outputs": [
        {
          "output_type": "stream",
          "name": "stdout",
          "text": [
            "All characters are unique.\n"
          ]
        }
      ]
    },
    {
      "cell_type": "code",
      "source": [],
      "metadata": {
        "id": "1-CcAUKvuw68"
      },
      "execution_count": null,
      "outputs": []
    },
    {
      "cell_type": "markdown",
      "source": [
        "\b\u0012 Write ' %ode to %on\u0013ert ' gi\u0013en\n",
        "tring to upper%'\n",
        "e or lower%'\n",
        "e\u0012"
      ],
      "metadata": {
        "id": "NLFKsxM_uxpK"
      }
    },
    {
      "cell_type": "code",
      "source": [
        "s = \"Hello World\"\n",
        "\n",
        "# Convert to uppercase\n",
        "uppercase_s = \"\"\n",
        "for char in s:\n",
        "    if 'a' <= char <= 'z':\n",
        "        uppercase_s += chr(ord(char) - 32)\n",
        "    else:\n",
        "        uppercase_s += char\n",
        "\n",
        "print(\"Uppercase:\", uppercase_s)\n",
        "\n",
        "# Convert to lowercase\n",
        "lowercase_s = \"\"\n",
        "for char in s:\n",
        "    if 'A' <= char <= 'Z':\n",
        "        lowercase_s += chr(ord(char) + 32)\n",
        "    else:\n",
        "        lowercase_s += char\n",
        "\n",
        "print(\"Lowercase:\", lowercase_s)"
      ],
      "metadata": {
        "colab": {
          "base_uri": "https://localhost:8080/"
        },
        "id": "SdrDO3axu0tD",
        "outputId": "ea0e56db-e01e-447b-9ae4-e82727bdafe9"
      },
      "execution_count": null,
      "outputs": [
        {
          "output_type": "stream",
          "name": "stdout",
          "text": [
            "Uppercase: HELLO WORLD\n",
            "Lowercase: hello world\n"
          ]
        }
      ]
    },
    {
      "cell_type": "code",
      "source": [],
      "metadata": {
        "id": "V0O-PpsKu813"
      },
      "execution_count": null,
      "outputs": []
    },
    {
      "cell_type": "markdown",
      "source": [
        "\u0007\u0012 Write ' %ode to %ount the nu\n",
        "ber of word\n",
        " in '\n",
        "tring\u0012\n"
      ],
      "metadata": {
        "id": "izRNXiEGvHMY"
      }
    },
    {
      "cell_type": "code",
      "source": [
        "def count_words(string):\n",
        "    count = 0\n",
        "    in_word = False\n",
        "\n",
        "    for char in string:\n",
        "        if char == ' ':\n",
        "            in_word = False\n",
        "        elif not in_word:\n",
        "            count += 1\n",
        "            in_word = True\n",
        "\n",
        "    return count"
      ],
      "metadata": {
        "id": "7G_hE0yivHsz"
      },
      "execution_count": 1,
      "outputs": []
    },
    {
      "cell_type": "code",
      "source": [],
      "metadata": {
        "id": "XQfoXww1aCKx"
      },
      "execution_count": null,
      "outputs": []
    },
    {
      "cell_type": "markdown",
      "source": [
        "\n",
        "\n",
        "\"\u0006\u0012 Write ' %ode to %on%'ten'te two \u001dtring\u001d without u\u001ding the + oper'tor\u0012\n"
      ],
      "metadata": {
        "id": "3As_lQy8aR3J"
      }
    },
    {
      "cell_type": "code",
      "source": [
        "str1 = \"Hello\"\n",
        "str2 = \"World\"\n",
        "\n",
        "# Create an empty string to store the result\n",
        "result = \"\"\n",
        "\n",
        "# Append characters from the first string\n",
        "for char in str1:\n",
        "    result += char\n",
        "\n",
        "# Append characters from the second string\n",
        "for char in str2:\n",
        "    result += char\n",
        "print(result)\n"
      ],
      "metadata": {
        "colab": {
          "base_uri": "https://localhost:8080/"
        },
        "id": "Ag-tTAgkaXKo",
        "outputId": "d5cf1480-e713-49e4-b7d4-6f58dd2cf4a9"
      },
      "execution_count": 2,
      "outputs": [
        {
          "output_type": "stream",
          "name": "stdout",
          "text": [
            "HelloWorld\n"
          ]
        }
      ]
    },
    {
      "cell_type": "markdown",
      "source": [
        "\"\"\u0012 Write ' %ode to re\fo\u0013e 'll o%%urren%e\u001d of ' \u001dpe%ifi% ele\fent fro\f ' li\u001dt\u0012"
      ],
      "metadata": {
        "id": "aKck4MgZavPG"
      }
    },
    {
      "cell_type": "code",
      "source": [
        "# Define the list and the element to be removed\n",
        "my_list = [21, 5, 8, 52, 21, 87]\n",
        "element_to_remove = 21\n",
        "\n",
        "# Create a new list excluding the element to be removed\n",
        "result = [item for item in my_list if item != element_to_remove]\n",
        "\n",
        "print(result)"
      ],
      "metadata": {
        "colab": {
          "base_uri": "https://localhost:8080/"
        },
        "id": "9g3hBhF3apv_",
        "outputId": "ed8480b5-0cb6-405c-f07b-c5f8e8863e7a"
      },
      "execution_count": 3,
      "outputs": [
        {
          "output_type": "stream",
          "name": "stdout",
          "text": [
            "[5, 8, 52, 87]\n"
          ]
        }
      ]
    },
    {
      "cell_type": "code",
      "source": [],
      "metadata": {
        "id": "FtsrEsTZbFQM"
      },
      "execution_count": null,
      "outputs": []
    },
    {
      "cell_type": "markdown",
      "source": [
        "\"\u001c\u0012 I\fple\fent ' %ode to find the \u001de%ond l'rge\u001dt nu\fber in ' gi\u0013en li\u001dt of integer\u001d\u0012\n"
      ],
      "metadata": {
        "id": "MOJpGEH-bHQ2"
      }
    },
    {
      "cell_type": "code",
      "source": [
        "numbers = [21, 5, 8, 52, 21, 87]\n",
        "\n",
        "# Initialize the first and second largest to negative infinity\n",
        "first_largest = float('-inf')\n",
        "second_largest = float('-inf')\n",
        "\n",
        "# Iterate through the list to find the largest and second largest numbers\n",
        "for number in numbers:\n",
        "    if number > first_largest:\n",
        "        second_largest = first_largest\n",
        "        first_largest = number\n",
        "    elif number > second_largest and number != first_largest:\n",
        "        second_largest = number\n",
        "\n",
        "print(\"The second largest number is:\", second_largest)"
      ],
      "metadata": {
        "colab": {
          "base_uri": "https://localhost:8080/"
        },
        "id": "7SILj7mHbHtx",
        "outputId": "a5aacc53-2cb3-4545-dd1c-b6f7d431d995"
      },
      "execution_count": 4,
      "outputs": [
        {
          "output_type": "stream",
          "name": "stdout",
          "text": [
            "The second largest number is: 52\n"
          ]
        }
      ]
    },
    {
      "cell_type": "code",
      "source": [],
      "metadata": {
        "id": "ApEoJpgYbTWt"
      },
      "execution_count": null,
      "outputs": []
    },
    {
      "cell_type": "markdown",
      "source": [
        "\"\u000b\u0012 Cre'te ' %ode to %ount the o%%urren%e\u001d of e'%h ele\fent in ' li\u001dt 'nd return ' di%tion'r\n",
        " with ele\fent\u001d '\u001d\n",
        "ke\n",
        "\u001d 'nd their %ount\u001d '\u001d \u0013'lue\u001d\u0012"
      ],
      "metadata": {
        "id": "Sw8E72FYbWM-"
      }
    },
    {
      "cell_type": "code",
      "source": [
        "my_list = [21, 5, 8, 52, 21, 87, 5, 21]\n",
        "\n",
        "# Initialize an empty dictionary to store the counts\n",
        "count_dict = {}\n",
        "\n",
        "# Iterate through the list\n",
        "for element in my_list:\n",
        "    if element in count_dict:\n",
        "        count_dict[element] += 1\n",
        "    else:\n",
        "        count_dict[element] = 1\n",
        "\n",
        "print(count_dict)"
      ],
      "metadata": {
        "colab": {
          "base_uri": "https://localhost:8080/"
        },
        "id": "LWmQzKY7bWtg",
        "outputId": "9449cc50-ea66-4b5c-a2a2-c59b266d62f4"
      },
      "execution_count": 5,
      "outputs": [
        {
          "output_type": "stream",
          "name": "stdout",
          "text": [
            "{21: 3, 5: 2, 8: 1, 52: 1, 87: 1}\n"
          ]
        }
      ]
    },
    {
      "cell_type": "code",
      "source": [],
      "metadata": {
        "id": "5FEJPfLybdVN"
      },
      "execution_count": null,
      "outputs": []
    },
    {
      "cell_type": "markdown",
      "source": [
        "\"\u0011\u0012 Write ' %ode to re\u0013er\u001de ' li\u001dt in-pl'%e without u\u001ding 'n\n",
        " built-in re\u0013er\u001de fun%tion\u001d\u0012"
      ],
      "metadata": {
        "id": "jarWxs6bbiPJ"
      }
    },
    {
      "cell_type": "code",
      "source": [
        "my_list = [21, 5, 8, 52, 21, 87]\n",
        "\n",
        "# Get the length of the list\n",
        "n = len(my_list)\n",
        "\n",
        "# Use a loop to swap elements\n",
        "for i in range(n // 2):\n",
        "    # Swap the elements\n",
        "    my_list[i], my_list[n - i - 1] = my_list[n - i - 1], my_list[i]\n",
        "\n",
        "print(my_list)"
      ],
      "metadata": {
        "colab": {
          "base_uri": "https://localhost:8080/"
        },
        "id": "6USKqjD_bi0E",
        "outputId": "96ace87f-bad7-48ac-9ddd-8cdcb045ada5"
      },
      "execution_count": 6,
      "outputs": [
        {
          "output_type": "stream",
          "name": "stdout",
          "text": [
            "[87, 21, 52, 8, 5, 21]\n"
          ]
        }
      ]
    },
    {
      "cell_type": "code",
      "source": [
        "\"\t\u0012 I\fple\fent ' %ode to find 'nd re\fo\u0013e dupli%'te\u001d fro\f ' li\u001dt while pre\u001der\u0013ing the origin'l order of\n",
        "ele\fent\u001d\u0012"
      ],
      "metadata": {
        "id": "6A9JD-q8bqAM"
      },
      "execution_count": null,
      "outputs": []
    },
    {
      "cell_type": "code",
      "source": [
        "my_list = [1, 2, 2, 3, 4, 3, 5]\n",
        "new_list = []\n",
        "for item in my_list:\n",
        "    if item not in new_list:\n",
        "        new_list.append(item)\n",
        "\n",
        "print(new_list)"
      ],
      "metadata": {
        "colab": {
          "base_uri": "https://localhost:8080/"
        },
        "id": "Ublv5A3kbnGt",
        "outputId": "44acc6b1-b920-4c3d-a29b-aa565012a0a7"
      },
      "execution_count": 8,
      "outputs": [
        {
          "output_type": "stream",
          "name": "stdout",
          "text": [
            "[1, 2, 3, 4, 5]\n"
          ]
        }
      ]
    },
    {
      "cell_type": "code",
      "source": [],
      "metadata": {
        "id": "bZ-awjDzcRjR"
      },
      "execution_count": null,
      "outputs": []
    },
    {
      "cell_type": "markdown",
      "source": [
        "\"$\u0012 Cre'te ' %ode to %he%k if ' gi\u0013en li\u001dt i\u001d \u001dorted (either in '\u001d%ending or de\u001d%ending order) or not\u0012"
      ],
      "metadata": {
        "id": "WYQ4JZKmcSHp"
      }
    },
    {
      "cell_type": "code",
      "source": [
        "my_list = [1, 2, 3, 4, 5]  # Example list\n",
        "ascending = True\n",
        "descending = True\n",
        "\n",
        "# Check for ascending order\n",
        "for i in range(len(my_list) - 1):\n",
        "    if my_list[i] > my_list[i + 1]:\n",
        "        ascending = False\n",
        "        break\n",
        "\n",
        "# Check for descending order\n",
        "for i in range(len(my_list) - 1):\n",
        "    if my_list[i] < my_list[i + 1]:\n",
        "        descending = False\n",
        "        break\n",
        "\n",
        "if ascending:\n",
        "    print(\"The list is sorted in ascending order.\")\n",
        "elif descending:\n",
        "    print(\"The list is sorted in descending order.\")\n",
        "else:\n",
        "    print(\"The list is not sorted.\")\n"
      ],
      "metadata": {
        "colab": {
          "base_uri": "https://localhost:8080/"
        },
        "id": "ZiXVlhfmcSql",
        "outputId": "8dd25740-03ca-4b82-db49-951bd552403b"
      },
      "execution_count": 9,
      "outputs": [
        {
          "output_type": "stream",
          "name": "stdout",
          "text": [
            "The list is sorted in ascending order.\n"
          ]
        }
      ]
    },
    {
      "cell_type": "code",
      "source": [],
      "metadata": {
        "id": "BwpjdtK_cdBY"
      },
      "execution_count": null,
      "outputs": []
    },
    {
      "cell_type": "markdown",
      "source": [
        "\"&\u0012 Write ' %ode to \ferge two \u001dorted li\u001dt\u001d into ' \u001dingle \u001dorted li\u001dt\u0012"
      ],
      "metadata": {
        "id": "n2i5w5_Ycf9U"
      }
    },
    {
      "cell_type": "code",
      "source": [
        "list1 = [1, 3, 5, 7]\n",
        "list2 = [2, 4, 6, 8]\n",
        "\n",
        "merged_list = []\n",
        "i = 0  # Pointer for list1\n",
        "j = 0  # Pointer for list2\n",
        "\n",
        "# Merge the two lists by comparing elements\n",
        "while i < len(list1) and j < len(list2):\n",
        "    if list1[i] < list2[j]:\n",
        "        merged_list.append(list1[i])\n",
        "        i += 1\n",
        "    else:\n",
        "        merged_list.append(list2[j])\n",
        "        j += 1\n",
        "\n",
        "# If there are remaining elements in list1, append them\n",
        "while i < len(list1):\n",
        "    merged_list.append(list1[i])\n",
        "    i += 1\n",
        "\n",
        "# If there are remaining elements in list2, append them\n",
        "while j < len(list2):\n",
        "    merged_list.append(list2[j])\n",
        "    j += 1\n",
        "\n",
        "print(merged_list)"
      ],
      "metadata": {
        "colab": {
          "base_uri": "https://localhost:8080/"
        },
        "id": "f9vGgIh4cghB",
        "outputId": "24e59de7-3ae0-4cb7-85b6-e258438fd918"
      },
      "execution_count": 10,
      "outputs": [
        {
          "output_type": "stream",
          "name": "stdout",
          "text": [
            "[1, 2, 3, 4, 5, 6, 7, 8]\n"
          ]
        }
      ]
    },
    {
      "cell_type": "code",
      "source": [],
      "metadata": {
        "id": "1oxliS-Kcn8m"
      },
      "execution_count": null,
      "outputs": []
    },
    {
      "cell_type": "markdown",
      "source": [
        "\"\b\u0012 I\fple\fent ' %ode to find the inter\u001de%tion of two gi\u0013en li\u001dt\u001d\u0012"
      ],
      "metadata": {
        "id": "yF7eoHjQcqzT"
      }
    },
    {
      "cell_type": "code",
      "source": [
        "list1 = [1, 2, 3, 4, 5]\n",
        "list2 = [3, 4, 5, 6, 7]\n",
        "\n",
        "intersection = []\n",
        "\n",
        "# Loop through each element of the first list\n",
        "for item in list1:\n",
        "    # Check if the item is present in the second list\n",
        "    if item in list2 and item not in intersection:\n",
        "        intersection.append(item)\n",
        "\n",
        "print(intersection)"
      ],
      "metadata": {
        "colab": {
          "base_uri": "https://localhost:8080/"
        },
        "id": "NsHWo2rhcrSZ",
        "outputId": "8240166d-0289-4e74-f952-4f207a672de3"
      },
      "execution_count": 11,
      "outputs": [
        {
          "output_type": "stream",
          "name": "stdout",
          "text": [
            "[3, 4, 5]\n"
          ]
        }
      ]
    },
    {
      "cell_type": "code",
      "source": [],
      "metadata": {
        "id": "mO5Nr8Ddc8AC"
      },
      "execution_count": null,
      "outputs": []
    },
    {
      "cell_type": "markdown",
      "source": [
        "\"\u0007\u0012 Cre'te ' %ode to find the union of two li\u001dt\u001d without dupli%'te\u001d\u0012"
      ],
      "metadata": {
        "id": "WxDYUGkJdAtp"
      }
    },
    {
      "cell_type": "code",
      "source": [
        "list1 = [1, 2, 3, 4, 5]\n",
        "list2 = [4, 5, 6, 7, 8]\n",
        "\n",
        "union_list = []\n",
        "\n",
        "# Add all elements of the first list to the union_list\n",
        "for item in list1:\n",
        "    if item not in union_list:\n",
        "        union_list.append(item)\n",
        "\n",
        "# Add elements of the second list, checking for duplicates\n",
        "for item in list2:\n",
        "    if item not in union_list:\n",
        "        union_list.append(item)\n",
        "\n",
        "print(union_list)"
      ],
      "metadata": {
        "colab": {
          "base_uri": "https://localhost:8080/"
        },
        "id": "Ic3kLqe6dBbL",
        "outputId": "ef4c465b-c4b6-4bbe-b66d-93bd0b52bba8"
      },
      "execution_count": 12,
      "outputs": [
        {
          "output_type": "stream",
          "name": "stdout",
          "text": [
            "[1, 2, 3, 4, 5, 6, 7, 8]\n"
          ]
        }
      ]
    },
    {
      "cell_type": "code",
      "source": [],
      "metadata": {
        "id": "awfD5Q5qdEtn"
      },
      "execution_count": null,
      "outputs": []
    },
    {
      "cell_type": "markdown",
      "source": [
        "\u001c\u0006\u0012 Write ' %ode to \u001dhuffle ' gi\u0013en li\u001dt r'ndo\fl\n",
        " without u\u001ding 'n\n",
        " built-in \u001dhuffle fun%tion\u001d\u0012"
      ],
      "metadata": {
        "id": "J9R8RgWsdMxB"
      }
    },
    {
      "cell_type": "code",
      "source": [
        "import random\n",
        "\n",
        "my_list = [1, 2, 3, 4, 5, 6, 7, 8]\n",
        "shuffled_list = []\n",
        "used_indices = set()  # Set to track used indices\n",
        "\n",
        "# Continue until all elements are added to shuffled_list\n",
        "while len(shuffled_list) < len(my_list):\n",
        "    random_index = random.randint(0, len(my_list) - 1)  # Pick a random index\n",
        "    if random_index not in used_indices:  # Ensure the index hasn't been used\n",
        "        shuffled_list.append(my_list[random_index])\n",
        "        used_indices.add(random_index)  # Mark this index as used\n",
        "\n",
        "print(shuffled_list)"
      ],
      "metadata": {
        "colab": {
          "base_uri": "https://localhost:8080/"
        },
        "id": "Y5t6zItCdNWb",
        "outputId": "60cc92c2-cf59-4c47-b66f-d6f6ca3588fd"
      },
      "execution_count": 13,
      "outputs": [
        {
          "output_type": "stream",
          "name": "stdout",
          "text": [
            "[3, 6, 5, 8, 2, 1, 4, 7]\n"
          ]
        }
      ]
    },
    {
      "cell_type": "code",
      "source": [],
      "metadata": {
        "id": "6LbmyMmjdSNJ"
      },
      "execution_count": null,
      "outputs": []
    },
    {
      "cell_type": "markdown",
      "source": [
        "\u001c\"\u0012 Write ' %ode th't t'ke\u001d two tuple\u001d '\u001d input 'nd return\u001d ' new tuple %ont'ining ele\fent\u001d th't 're\n",
        "%o\f\fon to both input tuple\u001d\u0012"
      ],
      "metadata": {
        "id": "ADau0tu5dWI5"
      }
    },
    {
      "cell_type": "code",
      "source": [
        "tuple1 = (1, 2, 3, 4, 5)\n",
        "tuple2 = (4, 5, 6, 7, 8)\n",
        "\n",
        "common_elements = []\n",
        "\n",
        "# Loop through each element in tuple1\n",
        "for item in tuple1:\n",
        "    # Check if the element is present in tuple2\n",
        "    if item in tuple2:\n",
        "        common_elements.append(item)\n",
        "\n",
        "# Convert the list of common elements back to a tuple\n",
        "result_tuple = tuple(common_elements)\n",
        "\n",
        "print(result_tuple)"
      ],
      "metadata": {
        "colab": {
          "base_uri": "https://localhost:8080/"
        },
        "id": "Ga1uRzuZdXCB",
        "outputId": "0a6fbd05-1270-401b-f6ba-0dbae83ab110"
      },
      "execution_count": 14,
      "outputs": [
        {
          "output_type": "stream",
          "name": "stdout",
          "text": [
            "(4, 5)\n"
          ]
        }
      ]
    },
    {
      "cell_type": "code",
      "source": [],
      "metadata": {
        "id": "Oli3WFKUdanQ"
      },
      "execution_count": null,
      "outputs": []
    },
    {
      "cell_type": "markdown",
      "source": [
        "\u001c\"\u0012 Write ' %ode th't t'ke\u001d two tuple\u001d '\u001d input 'nd return\u001d ' new tuple %ont'ining ele\fent\u001d th't 're\n",
        "%o\f\fon to both input tuple\u001d\u0012"
      ],
      "metadata": {
        "id": "7M6TVovAdfw3"
      }
    },
    {
      "cell_type": "code",
      "source": [
        "tuple1 = (1, 2, 3, 4, 5)\n",
        "tuple2 = (4, 5, 6, 7, 8)\n",
        "\n",
        "common_elements = []\n",
        "\n",
        "# Loop through each element in tuple1\n",
        "for item in tuple1:\n",
        "    # Check if the element is present in tuple2\n",
        "    if item in tuple2 and item not in common_elements:  # Avoid duplicates\n",
        "        common_elements.append(item)\n",
        "\n",
        "# Convert the list of common elements back to a tuple\n",
        "result_tuple = tuple(common_elements)\n",
        "\n",
        "print(result_tuple)"
      ],
      "metadata": {
        "colab": {
          "base_uri": "https://localhost:8080/"
        },
        "id": "kGrITFM-djFM",
        "outputId": "d03c9ba3-00f0-4304-ad4d-d9b8c4eb31ee"
      },
      "execution_count": 15,
      "outputs": [
        {
          "output_type": "stream",
          "name": "stdout",
          "text": [
            "(4, 5)\n"
          ]
        }
      ]
    },
    {
      "cell_type": "code",
      "source": [],
      "metadata": {
        "id": "CV_KWWl9dt23"
      },
      "execution_count": null,
      "outputs": []
    },
    {
      "cell_type": "markdown",
      "source": [
        "\u001c\u001c\u0012 Cre'te ' %ode th't pro\fpt\u001d the u\u001der to enter two \u001det\u001d of integer\u001d \u001dep'r'ted b\n",
        " %o\f\f'\u001d. Then# print the\n",
        "inter\u001de%tion of the\u001de two \u001det\u001d\u0012"
      ],
      "metadata": {
        "id": "YXm2pxeAdwnU"
      }
    },
    {
      "cell_type": "markdown",
      "source": [
        "\u001c\u000b\u0012 Write ' %ode to %on%'ten'te two tuple\u001d. The fun%tion \u001dhould t'ke two tuple\u001d '\u001d input 'nd return ' new\n",
        "tuple %ont'ining ele\fent\u001d fro\f both input tuple\u001d."
      ],
      "metadata": {
        "id": "PDalRZAVd7LT"
      }
    },
    {
      "cell_type": "code",
      "source": [
        "tuple1 = (1, 2, 3)\n",
        "tuple2 = (4, 5, 6)\n",
        "\n",
        "# Merging the tuples\n",
        "merged_tuple = tuple1 + tuple2\n",
        "\n",
        "# Output the new tuple\n",
        "print(merged_tuple)"
      ],
      "metadata": {
        "id": "pSVsEsBEd7rV"
      },
      "execution_count": null,
      "outputs": []
    },
    {
      "cell_type": "code",
      "source": [],
      "metadata": {
        "id": "Md_A7qA_eFPt"
      },
      "execution_count": null,
      "outputs": []
    },
    {
      "cell_type": "markdown",
      "source": [
        "'%& D(v(lop + cod( th+t prompts th( us(r to input two s(ts of strings. Th(n print th( (l(m(nts th+t +r(\n",
        "pr(s(nt in th( first s(t but not in th( s(cond s(t&"
      ],
      "metadata": {
        "id": "jJICJ6FCeLl3"
      }
    },
    {
      "cell_type": "code",
      "source": [
        "set1_input = input(\"Enter the first set of strings (comma-separated): \")\n",
        "set2_input = input(\"Enter the second set of strings (comma-separated): \")\n",
        "\n",
        "# Convert the input strings into sets\n",
        "set1 = set(set1_input.split(','))\n",
        "set2 = set(set2_input.split(','))\n",
        "\n",
        "# Find elements present in the first set but not in the second\n",
        "result_set = set1 - set2\n",
        "\n",
        "# Print the result\n",
        "print(\"Elements in the first set but not in the second set:\", result_set)"
      ],
      "metadata": {
        "id": "DXxWj7oDeMKD"
      },
      "execution_count": null,
      "outputs": []
    },
    {
      "cell_type": "code",
      "source": [],
      "metadata": {
        "id": "Afcfi1YReVuG"
      },
      "execution_count": null,
      "outputs": []
    },
    {
      "cell_type": "markdown",
      "source": [
        "'\u000b& Cr(+t( + cod( th+t t+k(s + tupl( +nd two int(g(rs +s input. Th( function should r(turn + n(w tupl(\n",
        "cont+ining (l(m(nts from th( origin+l tupl( within th( sp(cifi(d r+ng( of indic(s&"
      ],
      "metadata": {
        "id": "Cur_WzUKe8rx"
      }
    },
    {
      "cell_type": "code",
      "source": [
        "tuple_input = input(\"Enter a tuple of elements (comma-separated): \")\n",
        "start_index = int(input(\"Enter the start index: \"))\n",
        "end_index = int(input(\"Enter the end index: \"))\n",
        "\n",
        "# Convert the input string into a tuple\n",
        "original_tuple = tuple(tuple_input.split(','))\n",
        "\n",
        "# Create a new tuple containing elements within the specified range\n",
        "new_tuple = original_tuple[start_index:end_index]\n",
        "\n",
        "# Output the new tuple\n",
        "print(\"New tuple with elements in the specified range:\", new_tuple)\n"
      ],
      "metadata": {
        "colab": {
          "base_uri": "https://localhost:8080/"
        },
        "id": "RhG0R15yfEdW",
        "outputId": "dad896cc-ac37-4392-9671-ca46425b39d9"
      },
      "execution_count": 21,
      "outputs": [
        {
          "output_type": "stream",
          "name": "stdout",
          "text": [
            "Enter a tuple of elements (comma-separated): 1,2,3,4\n",
            "Enter the start index: 25\n",
            "Enter the end index: 45\n",
            "New tuple with elements in the specified range: ()\n"
          ]
        }
      ]
    },
    {
      "cell_type": "markdown",
      "source": [],
      "metadata": {
        "id": "1E2CwI8ciQNa"
      }
    },
    {
      "cell_type": "markdown",
      "source": [
        "'\u001f& Writ( + cod( th+t prompts th( us(r to input two s(ts of ch+r+ct(rs. Th(n print th( union of th(s( two s(ts"
      ],
      "metadata": {
        "id": "JyU23KDGgbTT"
      }
    },
    {
      "cell_type": "code",
      "source": [
        "set1_input = input(\"Enter the first set of characters (comma-separated): \")\n",
        "set2_input = input(\"Enter the second set of characters (comma-separated): \")\n",
        "\n",
        "# Convert the input strings into sets\n",
        "set1 = set(set1_input.split(','))\n",
        "set2 = set(set2_input.split(','))\n",
        "\n",
        "# Calculate the union of the two sets\n",
        "union_set = set1.union(set2)\n",
        "\n",
        "# Print the result\n",
        "print(\"Union of the two sets:\", union_set)"
      ],
      "metadata": {
        "colab": {
          "base_uri": "https://localhost:8080/"
        },
        "id": "vkQilQj3ger_",
        "outputId": "aec16758-6962-428c-a9eb-014c1a54da98"
      },
      "execution_count": 22,
      "outputs": [
        {
          "output_type": "stream",
          "name": "stdout",
          "text": [
            "Enter the first set of characters (comma-separated): 1,2,3,4\n",
            "Enter the second set of characters (comma-separated): 3,4,5,6\n",
            "Union of the two sets: {'1', '2', '6', '5', '4', '3'}\n"
          ]
        }
      ]
    },
    {
      "cell_type": "code",
      "source": [],
      "metadata": {
        "id": "4e5etYX8hLkF"
      },
      "execution_count": null,
      "outputs": []
    },
    {
      "cell_type": "markdown",
      "source": [
        "'*& D(v(lop + cod( th+t t+k(s + tupl( of int(g(rs +s input. Th( function should r(turn th( m+\bimum +nd\n",
        "minimum v+lu(s from th( tupl( using tupl( unp+cking&"
      ],
      "metadata": {
        "id": "huDBkx0ThPAk"
      }
    },
    {
      "cell_type": "code",
      "source": [
        "tuple_input = input(\"Enter a tuple of integers (comma-separated): \")\n",
        "\n",
        "# Convert the input string into a tuple of integers\n",
        "int_tuple = tuple(map(int, tuple_input.split(',')))\n",
        "\n",
        "# Use tuple unpacking to find the minimum and maximum values\n",
        "min_value, max_value = min(int_tuple), max(int_tuple)\n",
        "\n",
        "# Create a new tuple containing the minimum and maximum values\n",
        "result_tuple = (min_value, max_value)\n",
        "\n",
        "# Output the result\n",
        "print(\"Minimum and maximum values from the tuple:\", result_tuple)"
      ],
      "metadata": {
        "colab": {
          "base_uri": "https://localhost:8080/"
        },
        "id": "Fz1wxQ6LhPpd",
        "outputId": "3339761c-f648-4544-d47a-54052b235225"
      },
      "execution_count": 23,
      "outputs": [
        {
          "output_type": "stream",
          "name": "stdout",
          "text": [
            "Enter a tuple of integers (comma-separated): 1,2,3,4\n",
            "Minimum and maximum values from the tuple: (1, 4)\n"
          ]
        }
      ]
    },
    {
      "cell_type": "code",
      "source": [],
      "metadata": {
        "id": "cpYIc1rEhUJF"
      },
      "execution_count": null,
      "outputs": []
    },
    {
      "cell_type": "markdown",
      "source": [
        "'\u0007& Cr(+t( + cod( th+t d(fin(s two s(ts of int(g(rs. Th(n print th( union int(rs(ction +nd diff(r(nc( of th(s(\n",
        "two s(ts"
      ],
      "metadata": {
        "id": "7ngnF-nshWai"
      }
    },
    {
      "cell_type": "markdown",
      "source": [],
      "metadata": {
        "id": "GZuvgxw5iXcB"
      }
    },
    {
      "cell_type": "code",
      "source": [
        "set1_input = input(\"Enter the first set of integers (comma-separated): \")\n",
        "set2_input = input(\"Enter the second set of integers (comma-separated): \")\n",
        "\n",
        "# Convert the input strings into sets of integers\n",
        "set1 = set(map(int, set1_input.split(',')))\n",
        "set2 = set(map(int, set2_input.split(',')))\n",
        "\n",
        "# Calculate union, intersection, and difference\n",
        "union_set = set1.union(set2)\n",
        "intersection_set = set1.intersection(set2)\n",
        "difference_set = set1.difference(set2)\n",
        "\n",
        "# Print the results\n",
        "print(\"Union of the two sets:\", union_set)\n"
      ],
      "metadata": {
        "colab": {
          "base_uri": "https://localhost:8080/"
        },
        "id": "bmCtqUOlhXx4",
        "outputId": "0dced7e9-f5f8-4d33-b368-4ab987ee5c0a"
      },
      "execution_count": 24,
      "outputs": [
        {
          "output_type": "stream",
          "name": "stdout",
          "text": [
            "Enter the first set of integers (comma-separated): 1,2,3,4\n",
            "Enter the second set of integers (comma-separated): 4,5,6,7\n",
            "Union of the two sets: {1, 2, 3, 4, 5, 6, 7}\n"
          ]
        }
      ]
    },
    {
      "cell_type": "code",
      "source": [],
      "metadata": {
        "id": "-cCzLbVnhcoy"
      },
      "execution_count": null,
      "outputs": []
    },
    {
      "cell_type": "markdown",
      "source": [
        "'\u0006& Writ( + cod( th+t t+k(s + tupl( +nd +n (l(m(nt +s input. Th( function should r(turn th( count of\n",
        "occurr(nc(s of th( giv(n (l(m(nt in th( tupl(&"
      ],
      "metadata": {
        "id": "KHJc6JsoibGV"
      }
    },
    {
      "cell_type": "code",
      "source": [
        "tuple_input = input(\"Enter a tuple of elements (comma-separated): \")\n",
        "element_input = input(\"Enter the element to count: \")\n",
        "\n",
        "# Convert the input string into a tuple\n",
        "elements_tuple = tuple(tuple_input.split(','))\n",
        "\n",
        "# Count occurrences of the given element in the tuple\n",
        "count = elements_tuple.count(element_input)\n",
        "\n",
        "# Output the count\n",
        "print(f\"The count of occurrences of '{element_input}' in the tuple is:\", count)"
      ],
      "metadata": {
        "colab": {
          "base_uri": "https://localhost:8080/"
        },
        "id": "99ApOPZwigFN",
        "outputId": "4cf65e56-f1af-4d38-ca01-040ef8f1a48f"
      },
      "execution_count": 25,
      "outputs": [
        {
          "output_type": "stream",
          "name": "stdout",
          "text": [
            "Enter a tuple of elements (comma-separated): 1,2,3,4\n",
            "Enter the element to count: 23\n",
            "The count of occurrences of '23' in the tuple is: 0\n"
          ]
        }
      ]
    },
    {
      "cell_type": "code",
      "source": [
        "#\u0005& D(v(lop + cod( th+t prompts th( us(r to input two s(ts of strings. Th(n print th( s\u0004mm(tric diff(r(nc( of\n",
        "#th(s( two s(ts&"
      ],
      "metadata": {
        "id": "vAYvxAjdimC0"
      },
      "execution_count": 27,
      "outputs": []
    },
    {
      "cell_type": "code",
      "source": [
        "set1_input = input(\"Enter the first set of strings (comma-separated): \")\n",
        "set2_input = input(\"Enter the second set of strings (comma-separated): \")\n",
        "\n",
        "# Convert the input strings into sets\n",
        "set1 = set(set1_input.split(','))\n",
        "set2 = set(set2_input.split(','))\n",
        "\n",
        "# Calculate the symmetric difference (elements in either set, but not both)\n",
        "symmetric_difference_set = set1.symmetric_difference(set2)\n",
        "\n",
        "# Print the result\n",
        "print(\"Symmetric difference of the two sets:\", symmetric_difference_set)"
      ],
      "metadata": {
        "colab": {
          "base_uri": "https://localhost:8080/"
        },
        "id": "oi9lBcznjkUv",
        "outputId": "52d79cfb-4bca-4728-85b2-65a9f03a1401"
      },
      "execution_count": 28,
      "outputs": [
        {
          "output_type": "stream",
          "name": "stdout",
          "text": [
            "Enter the first set of strings (comma-separated): 1,2,3,4\n",
            "Enter the second set of strings (comma-separated): 4,5,6,7\n",
            "Symmetric difference of the two sets: {'7', '1', '2', '6', '5', '3'}\n"
          ]
        }
      ]
    },
    {
      "cell_type": "code",
      "source": [],
      "metadata": {
        "id": "yP7PSlIojtpA"
      },
      "execution_count": null,
      "outputs": []
    },
    {
      "cell_type": "markdown",
      "source": [
        "\u0005& Writ( + cod( th+t t+k(s + list of words +s input +nd r(turns + diction+r\u0004 wh(r( th( k(\u0004s +r( uni\fu( words\n",
        "+nd th( v+lu(s +r( th( fr(\fu(nci(s of thos( words in th( input list"
      ],
      "metadata": {
        "id": "5CMTUC6Aj1be"
      }
    },
    {
      "cell_type": "code",
      "source": [
        "words_input = input(\"Enter a list of words (space-separated): \")\n",
        "\n",
        "# Convert the input string into a list of words\n",
        "words_list = words_input.split()\n",
        "\n",
        "# Create a dictionary to store word frequencies\n",
        "word_count = {}\n",
        "\n",
        "# Count the frequency of each word\n",
        "for word in words_list:\n",
        "    if word in word_count:\n",
        "        word_count[word] += 1\n",
        "    else:\n",
        "        word_count[word] = 1\n",
        "\n",
        "# Output the result\n",
        "print(\"Word frequency dictionary:\", word_count)\n"
      ],
      "metadata": {
        "colab": {
          "base_uri": "https://localhost:8080/"
        },
        "id": "tfya8sXxj2Bu",
        "outputId": "8fffe73a-9b03-41da-ad3e-e0968fd87850"
      },
      "execution_count": 29,
      "outputs": [
        {
          "output_type": "stream",
          "name": "stdout",
          "text": [
            "Enter a list of words (space-separated): 1,2,3,4\n",
            "Word frequency dictionary: {'1,2,3,4': 1}\n"
          ]
        }
      ]
    },
    {
      "cell_type": "code",
      "source": [],
      "metadata": {
        "id": "XVP1c5__j_LM"
      },
      "execution_count": null,
      "outputs": []
    },
    {
      "cell_type": "markdown",
      "source": [
        "\u0005'& Writ( + cod( th+t t+k(s two diction+ri(s +s input +nd m(rg(s th(m into + singl( diction+r\u0004. If th(r( +r(\n",
        "common k(\u0004s th( v+lu(s should b( +dd(d tog(th(r&"
      ],
      "metadata": {
        "id": "HP4By8GFkFyy"
      }
    },
    {
      "cell_type": "code",
      "source": [
        "dict1_input = input(\"Enter the first dictionary (key:value pairs, comma-separated): \")\n",
        "dict2_input = input(\"Enter the second dictionary (key:value pairs, comma-separated): \")\n",
        "\n",
        "# Convert the input strings into dictionaries\n",
        "dict1 = {k: int(v) for k, v in (item.split(':') for item in dict1_input.split(','))}\n",
        "dict2 = {k: int(v) for k, v in (item.split(':') for item in dict2_input.split(','))}\n",
        "\n",
        "# Merge the two dictionaries\n",
        "merged_dict = dict1.copy()\n",
        "\n",
        "for key, value in dict2.items():\n",
        "    if key in merged_dict:\n",
        "        merged_dict[key] += value  # Add values if key exists in both dictionaries\n",
        "    else:\n",
        "        merged_dict[key] = value   # Add key-value pair if it's not in dict1\n",
        "\n",
        "# Output the result\n",
        "print(\"Merged dictionary:\", merged_dict)\n",
        "\n",
        "\n",
        "\n",
        "\n",
        "\n",
        "\n"
      ],
      "metadata": {
        "colab": {
          "base_uri": "https://localhost:8080/",
          "height": 367
        },
        "id": "krYhcldKkGrl",
        "outputId": "d49d1ce1-c429-4c6c-cbf8-bdfd0724943d"
      },
      "execution_count": 33,
      "outputs": [
        {
          "name": "stdout",
          "output_type": "stream",
          "text": [
            "Enter the first dictionary (key:value pairs, comma-separated): 1,2,3,4\n",
            "Enter the second dictionary (key:value pairs, comma-separated): 5,6,7,8\n"
          ]
        },
        {
          "output_type": "error",
          "ename": "ValueError",
          "evalue": "not enough values to unpack (expected 2, got 1)",
          "traceback": [
            "\u001b[0;31m---------------------------------------------------------------------------\u001b[0m",
            "\u001b[0;31mValueError\u001b[0m                                Traceback (most recent call last)",
            "\u001b[0;32m<ipython-input-33-16b1c989852b>\u001b[0m in \u001b[0;36m<cell line: 5>\u001b[0;34m()\u001b[0m\n\u001b[1;32m      3\u001b[0m \u001b[0;34m\u001b[0m\u001b[0m\n\u001b[1;32m      4\u001b[0m \u001b[0;31m# Convert the input strings into dictionaries\u001b[0m\u001b[0;34m\u001b[0m\u001b[0;34m\u001b[0m\u001b[0m\n\u001b[0;32m----> 5\u001b[0;31m \u001b[0mdict1\u001b[0m \u001b[0;34m=\u001b[0m \u001b[0;34m{\u001b[0m\u001b[0mk\u001b[0m\u001b[0;34m:\u001b[0m \u001b[0mint\u001b[0m\u001b[0;34m(\u001b[0m\u001b[0mv\u001b[0m\u001b[0;34m)\u001b[0m \u001b[0;32mfor\u001b[0m \u001b[0mk\u001b[0m\u001b[0;34m,\u001b[0m \u001b[0mv\u001b[0m \u001b[0;32min\u001b[0m \u001b[0;34m(\u001b[0m\u001b[0mitem\u001b[0m\u001b[0;34m.\u001b[0m\u001b[0msplit\u001b[0m\u001b[0;34m(\u001b[0m\u001b[0;34m':'\u001b[0m\u001b[0;34m)\u001b[0m \u001b[0;32mfor\u001b[0m \u001b[0mitem\u001b[0m \u001b[0;32min\u001b[0m \u001b[0mdict1_input\u001b[0m\u001b[0;34m.\u001b[0m\u001b[0msplit\u001b[0m\u001b[0;34m(\u001b[0m\u001b[0;34m','\u001b[0m\u001b[0;34m)\u001b[0m\u001b[0;34m)\u001b[0m\u001b[0;34m}\u001b[0m\u001b[0;34m\u001b[0m\u001b[0;34m\u001b[0m\u001b[0m\n\u001b[0m\u001b[1;32m      6\u001b[0m \u001b[0mdict2\u001b[0m \u001b[0;34m=\u001b[0m \u001b[0;34m{\u001b[0m\u001b[0mk\u001b[0m\u001b[0;34m:\u001b[0m \u001b[0mint\u001b[0m\u001b[0;34m(\u001b[0m\u001b[0mv\u001b[0m\u001b[0;34m)\u001b[0m \u001b[0;32mfor\u001b[0m \u001b[0mk\u001b[0m\u001b[0;34m,\u001b[0m \u001b[0mv\u001b[0m \u001b[0;32min\u001b[0m \u001b[0;34m(\u001b[0m\u001b[0mitem\u001b[0m\u001b[0;34m.\u001b[0m\u001b[0msplit\u001b[0m\u001b[0;34m(\u001b[0m\u001b[0;34m':'\u001b[0m\u001b[0;34m)\u001b[0m \u001b[0;32mfor\u001b[0m \u001b[0mitem\u001b[0m \u001b[0;32min\u001b[0m \u001b[0mdict2_input\u001b[0m\u001b[0;34m.\u001b[0m\u001b[0msplit\u001b[0m\u001b[0;34m(\u001b[0m\u001b[0;34m','\u001b[0m\u001b[0;34m)\u001b[0m\u001b[0;34m)\u001b[0m\u001b[0;34m}\u001b[0m\u001b[0;34m\u001b[0m\u001b[0;34m\u001b[0m\u001b[0m\n\u001b[1;32m      7\u001b[0m \u001b[0;34m\u001b[0m\u001b[0m\n",
            "\u001b[0;32m<ipython-input-33-16b1c989852b>\u001b[0m in \u001b[0;36m<dictcomp>\u001b[0;34m(.0)\u001b[0m\n\u001b[1;32m      3\u001b[0m \u001b[0;34m\u001b[0m\u001b[0m\n\u001b[1;32m      4\u001b[0m \u001b[0;31m# Convert the input strings into dictionaries\u001b[0m\u001b[0;34m\u001b[0m\u001b[0;34m\u001b[0m\u001b[0m\n\u001b[0;32m----> 5\u001b[0;31m \u001b[0mdict1\u001b[0m \u001b[0;34m=\u001b[0m \u001b[0;34m{\u001b[0m\u001b[0mk\u001b[0m\u001b[0;34m:\u001b[0m \u001b[0mint\u001b[0m\u001b[0;34m(\u001b[0m\u001b[0mv\u001b[0m\u001b[0;34m)\u001b[0m \u001b[0;32mfor\u001b[0m \u001b[0mk\u001b[0m\u001b[0;34m,\u001b[0m \u001b[0mv\u001b[0m \u001b[0;32min\u001b[0m \u001b[0;34m(\u001b[0m\u001b[0mitem\u001b[0m\u001b[0;34m.\u001b[0m\u001b[0msplit\u001b[0m\u001b[0;34m(\u001b[0m\u001b[0;34m':'\u001b[0m\u001b[0;34m)\u001b[0m \u001b[0;32mfor\u001b[0m \u001b[0mitem\u001b[0m \u001b[0;32min\u001b[0m \u001b[0mdict1_input\u001b[0m\u001b[0;34m.\u001b[0m\u001b[0msplit\u001b[0m\u001b[0;34m(\u001b[0m\u001b[0;34m','\u001b[0m\u001b[0;34m)\u001b[0m\u001b[0;34m)\u001b[0m\u001b[0;34m}\u001b[0m\u001b[0;34m\u001b[0m\u001b[0;34m\u001b[0m\u001b[0m\n\u001b[0m\u001b[1;32m      6\u001b[0m \u001b[0mdict2\u001b[0m \u001b[0;34m=\u001b[0m \u001b[0;34m{\u001b[0m\u001b[0mk\u001b[0m\u001b[0;34m:\u001b[0m \u001b[0mint\u001b[0m\u001b[0;34m(\u001b[0m\u001b[0mv\u001b[0m\u001b[0;34m)\u001b[0m \u001b[0;32mfor\u001b[0m \u001b[0mk\u001b[0m\u001b[0;34m,\u001b[0m \u001b[0mv\u001b[0m \u001b[0;32min\u001b[0m \u001b[0;34m(\u001b[0m\u001b[0mitem\u001b[0m\u001b[0;34m.\u001b[0m\u001b[0msplit\u001b[0m\u001b[0;34m(\u001b[0m\u001b[0;34m':'\u001b[0m\u001b[0;34m)\u001b[0m \u001b[0;32mfor\u001b[0m \u001b[0mitem\u001b[0m \u001b[0;32min\u001b[0m \u001b[0mdict2_input\u001b[0m\u001b[0;34m.\u001b[0m\u001b[0msplit\u001b[0m\u001b[0;34m(\u001b[0m\u001b[0;34m','\u001b[0m\u001b[0;34m)\u001b[0m\u001b[0;34m)\u001b[0m\u001b[0;34m}\u001b[0m\u001b[0;34m\u001b[0m\u001b[0;34m\u001b[0m\u001b[0m\n\u001b[1;32m      7\u001b[0m \u001b[0;34m\u001b[0m\u001b[0m\n",
            "\u001b[0;31mValueError\u001b[0m: not enough values to unpack (expected 2, got 1)"
          ]
        }
      ]
    },
    {
      "cell_type": "code",
      "source": [],
      "metadata": {
        "id": "qMEak4CdkbYH"
      },
      "execution_count": 32,
      "outputs": []
    },
    {
      "cell_type": "markdown",
      "source": [
        "\u0005\u0005& Writ( + cod( to +cc(ss + v+lu( in + n(st(d diction+r\u0004. Th( function should t+k( th( diction+r\u0004 +nd + list of\n",
        "k(\u0004s +s input +nd r(turn th( corr(sponding v+lu(. If +n\u0004 of th( k(\u0004s do not (\bist in th( diction+r\u0004 th(\n",
        "function should r(turn Non(&"
      ],
      "metadata": {
        "id": "jFU_UBkRk4Cr"
      }
    },
    {
      "cell_type": "code",
      "source": [
        "nested_dict = {\n",
        "    'a': {\n",
        "        'b': {\n",
        "            'c': 10\n",
        "        },\n",
        "        'd': 5\n",
        "    }\n",
        "}\n",
        "\n",
        "# Prompt the user for a list of keys (space-separated)\n",
        "keys_input = input(\"Enter the list of keys (space-separated): \")\n",
        "\n",
        "# Convert the input into a list of keys\n",
        "keys_list = keys_input.split()\n",
        "\n",
        "# Start with the nested dictionary\n",
        "current_dict = nested_dict\n",
        "found_value = True\n",
        "\n",
        "# Iterate through the keys to access the nested value\n",
        "for key in keys_list:\n",
        "    if key in current_dict:\n",
        "        current_dict = current_dict[key]  # Move deeper into the dictionary\n",
        "    else:\n",
        "        found_value = False\n",
        "        break\n",
        "\n",
        "# Print the result\n",
        "if found_value:\n",
        "    print(\"The value corresponding to the keys:\", current_dict)\n",
        "else:\n",
        "    print(\"None\")"
      ],
      "metadata": {
        "colab": {
          "base_uri": "https://localhost:8080/"
        },
        "id": "XmuKp0lKk65-",
        "outputId": "c565a704-9a36-4598-e56b-6575f51cefcc"
      },
      "execution_count": 34,
      "outputs": [
        {
          "output_type": "stream",
          "name": "stdout",
          "text": [
            "Enter the list of keys (space-separated): 1,2,3,4\n",
            "None\n"
          ]
        }
      ]
    },
    {
      "cell_type": "code",
      "source": [],
      "metadata": {
        "id": "pRsZDQAulOxw"
      },
      "execution_count": null,
      "outputs": []
    },
    {
      "cell_type": "markdown",
      "source": [
        "\u0005%& Writ( + cod( th+t t+k(s + diction+r\u0004 +s input +nd r(turns + sort(d v(rsion of it b+s(d on th( v+lu(s. You\n",
        "c+n choos( wh(th(r to sort in +sc(nding or d(sc(nding ord(r"
      ],
      "metadata": {
        "id": "_s6HBJ0ZlXsi"
      }
    },
    {
      "cell_type": "code",
      "source": [
        "dict_input = input(\"Enter the dictionary (key:value pairs, comma-separated): \")\n",
        "\n",
        "# Convert the input string into a dictionary\n",
        "input_dict = {k: int(v) for k, v in (item.split(':') for item in dict_input.split(','))}\n",
        "\n",
        "# Prompt the user to choose sorting order (ascending or descending)\n",
        "order = input(\"Enter sorting order (asc for ascending, desc for descending): \")\n",
        "\n",
        "# Sort the dictionary based on values\n",
        "if order == \"asc\":\n",
        "    sorted_dict = dict(sorted(input_dict.items(), key=lambda item: item[1]))\n",
        "else:\n",
        "    sorted_dict = dict(sorted(input_dict.items(), key=lambda item: item[1], reverse=True))\n",
        "\n",
        "# Output the sorted dictionary\n",
        "print(\"Sorted dictionary:\", sorted_dict)\n"
      ],
      "metadata": {
        "colab": {
          "base_uri": "https://localhost:8080/"
        },
        "id": "1UUZHFBslYPp",
        "outputId": "1a066f78-2de0-4b0f-d1bb-bbdaf2c8d72c"
      },
      "execution_count": 39,
      "outputs": [
        {
          "output_type": "stream",
          "name": "stdout",
          "text": [
            "Enter the dictionary (key:value pairs, comma-separated): a:1,b:2,c:3\n",
            "Enter sorting order (asc for ascending, desc for descending): asc\n",
            "Sorted dictionary: {'a': 1, 'b': 2, 'c': 3}\n"
          ]
        }
      ]
    },
    {
      "cell_type": "code",
      "source": [
        "#\u0005\u000b& Writ( + cod( th+t inv(rts + diction+r\u0004 sw+pping k(\u0004s +nd v+lu(s. Ensur( th+t th( inv(rt(d diction+r\u0004\n",
        "#corr(ctl\u0004 h+ndl(s c+s(s wh(r( multipl( k(\u0004s h+v( th( s+m( v+lu( b\u0004 storing th( k(\u0004s +s + list in th(\n",
        "#inv(rt(d diction+r\u0004."
      ],
      "metadata": {
        "id": "oGcsgDkClhnI"
      },
      "execution_count": null,
      "outputs": []
    },
    {
      "cell_type": "code",
      "source": [
        "# Prompt the user to input a dictionary as comma-separated key:value pairs\n",
        "dict_input = input(\"Enter the dictionary (key:value pairs, comma-separated): \")\n",
        "\n",
        "# Convert the input string into a dictionary\n",
        "input_dict = {k: int(v) for k, v in (item.split(':') for item in dict_input.split(','))}\n",
        "\n",
        "# Create an empty dictionary to store the inverted result\n",
        "inverted_dict = {}\n",
        "\n",
        "# Invert the dictionary by swapping keys and values\n",
        "for key, value in input_dict.items():\n",
        "    if value in inverted_dict:\n",
        "        inverted_dict[value].append(key)  # If value already exists, append the key to the list\n",
        "    else:\n",
        "        inverted_dict[value] = [key]  # Otherwise, create a new list with the key\n",
        "\n",
        "# Output the inverted dictionary\n",
        "print(\"Inverted dictionary:\", inverted_dict)"
      ],
      "metadata": {
        "colab": {
          "base_uri": "https://localhost:8080/"
        },
        "id": "v3hPR55Ulnwe",
        "outputId": "8318c6f9-6816-49b0-aeeb-f5147f83e502"
      },
      "execution_count": 40,
      "outputs": [
        {
          "output_type": "stream",
          "name": "stdout",
          "text": [
            "Enter the dictionary (key:value pairs, comma-separated): a:1,b:2\n",
            "Inverted dictionary: {1: ['a'], 2: ['b']}\n"
          ]
        }
      ]
    },
    {
      "cell_type": "code",
      "source": [],
      "metadata": {
        "id": "M_qQV8dcl2oq"
      },
      "execution_count": 40,
      "outputs": []
    }
  ]
}